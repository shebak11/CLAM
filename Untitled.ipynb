{
 "cells": [
  {
   "cell_type": "code",
   "execution_count": 5,
   "id": "6c78af04-0307-4226-bf0e-39c460fe8b1c",
   "metadata": {},
   "outputs": [],
   "source": [
    "from hipt_4k import HIPT_4K\n"
   ]
  },
  {
   "cell_type": "code",
   "execution_count": null,
   "id": "21dc3137-53d5-486e-a0fa-f93f544d964c",
   "metadata": {},
   "outputs": [],
   "source": []
  }
 ],
 "metadata": {
  "kernelspec": {
   "display_name": "kernel_monai",
   "language": "python",
   "name": "kernel_monai"
  },
  "language_info": {
   "codemirror_mode": {
    "name": "ipython",
    "version": 3
   },
   "file_extension": ".py",
   "mimetype": "text/x-python",
   "name": "python",
   "nbconvert_exporter": "python",
   "pygments_lexer": "ipython3",
   "version": "3.7.7"
  }
 },
 "nbformat": 4,
 "nbformat_minor": 5
}
